{
 "cells": [
  {
   "cell_type": "markdown",
   "metadata": {},
   "source": [
    "# Part 3 - Employ notebooks to synthesize query project results"
   ]
  },
  {
   "cell_type": "markdown",
   "metadata": {},
   "source": [
    "## Objectives: \n",
    "This notebook is provided as part of the Project 1: Query Project of W205 - Fundamentals of Data Engineering Course in the Spring 2020 semester at UC Berkeley.\n",
    "\n",
    "This notebook will answer the two project questions:\n",
    "\n",
    "1) What are the 5 most popular trips that you would call \"commuter trips\"?\n",
    "\n",
    "2) What are your recommendations for offers (justify based on your findings)?"
   ]
  },
  {
   "cell_type": "markdown",
   "metadata": {},
   "source": [
    "#### Importing necessary packages including Pandas:"
   ]
  },
  {
   "cell_type": "code",
   "execution_count": 42,
   "metadata": {},
   "outputs": [],
   "source": [
    "import pandas as pd\n",
    "import matplotlib.pyplot as plt\n",
    "import numpy as np"
   ]
  },
  {
   "cell_type": "markdown",
   "metadata": {},
   "source": [
    "## Question 1: What are the top 5 most popular trips that you would call \"commuter trips\"?\n",
    "\n",
    "I would classify a commuter trip as one that occurs between Monday through Friday between the hours of 8am to 6pm. \n",
    "A trip is defined as a start station and an end station. \n",
    "The following SQL query will group all trips by the start station and end station and count the frequency based on the conditions that I specified."
   ]
  },
  {
   "cell_type": "code",
   "execution_count": 43,
   "metadata": {},
   "outputs": [
    {
     "data": {
      "text/html": [
       "<div>\n",
       "<style scoped>\n",
       "    .dataframe tbody tr th:only-of-type {\n",
       "        vertical-align: middle;\n",
       "    }\n",
       "\n",
       "    .dataframe tbody tr th {\n",
       "        vertical-align: top;\n",
       "    }\n",
       "\n",
       "    .dataframe thead th {\n",
       "        text-align: right;\n",
       "    }\n",
       "</style>\n",
       "<table border=\"1\" class=\"dataframe\">\n",
       "  <thead>\n",
       "    <tr style=\"text-align: right;\">\n",
       "      <th></th>\n",
       "      <th>start_station_name</th>\n",
       "      <th>end_station_name</th>\n",
       "      <th>trip_freq</th>\n",
       "    </tr>\n",
       "  </thead>\n",
       "  <tbody>\n",
       "    <tr>\n",
       "      <th>0</th>\n",
       "      <td>2nd at Townsend</td>\n",
       "      <td>Harry Bridges Plaza (Ferry Building)</td>\n",
       "      <td>6676</td>\n",
       "    </tr>\n",
       "    <tr>\n",
       "      <th>1</th>\n",
       "      <td>San Francisco Caltrain 2 (330 Townsend)</td>\n",
       "      <td>Townsend at 7th</td>\n",
       "      <td>6057</td>\n",
       "    </tr>\n",
       "    <tr>\n",
       "      <th>2</th>\n",
       "      <td>Harry Bridges Plaza (Ferry Building)</td>\n",
       "      <td>Embarcadero at Sansome</td>\n",
       "      <td>5755</td>\n",
       "    </tr>\n",
       "    <tr>\n",
       "      <th>3</th>\n",
       "      <td>Embarcadero at Sansome</td>\n",
       "      <td>Steuart at Market</td>\n",
       "      <td>5591</td>\n",
       "    </tr>\n",
       "    <tr>\n",
       "      <th>4</th>\n",
       "      <td>Embarcadero at Folsom</td>\n",
       "      <td>San Francisco Caltrain (Townsend at 4th)</td>\n",
       "      <td>5520</td>\n",
       "    </tr>\n",
       "  </tbody>\n",
       "</table>\n",
       "</div>"
      ],
      "text/plain": [
       "                        start_station_name  \\\n",
       "0                          2nd at Townsend   \n",
       "1  San Francisco Caltrain 2 (330 Townsend)   \n",
       "2     Harry Bridges Plaza (Ferry Building)   \n",
       "3                   Embarcadero at Sansome   \n",
       "4                    Embarcadero at Folsom   \n",
       "\n",
       "                           end_station_name  trip_freq  \n",
       "0      Harry Bridges Plaza (Ferry Building)       6676  \n",
       "1                           Townsend at 7th       6057  \n",
       "2                    Embarcadero at Sansome       5755  \n",
       "3                         Steuart at Market       5591  \n",
       "4  San Francisco Caltrain (Townsend at 4th)       5520  "
      ]
     },
     "execution_count": 43,
     "metadata": {},
     "output_type": "execute_result"
    }
   ],
   "source": [
    "%%bigquery\n",
    "\n",
    "SELECT start_station_name, end_station_name, count(*) as trip_freq\n",
    "FROM `bigquery-public-data.san_francisco.bikeshare_trips`\n",
    "WHERE EXTRACT(DAYOFWEEK from start_date) BETWEEN 2 AND 6 AND EXTRACT(HOUR from start_date) BETWEEN 8 AND 18\n",
    "GROUP BY start_station_name, end_station_name\n",
    "ORDER BY trip_freq DESC LIMIT 5"
   ]
  },
  {
   "cell_type": "markdown",
   "metadata": {},
   "source": [
    "## Answer: The top 5 most popular trips that I would call \"commuter trips\" are provided in the table above and listed below.\n",
    "\n",
    "1) 2nd at Townsend to \n",
    "   Harry Bridges Plaza (Ferry Building)\n",
    "\n",
    "2) San Francisco Caltrain 2 (330 Townsend) to \n",
    "   Townsend at 7th\n",
    "\n",
    "3) Harry Bridges Plaza (Ferry Building) to \n",
    "   Embarcadero at Sansome\n",
    "\n",
    "4) Embarcadero at Sansome to \n",
    "   Steuart at Market\n",
    "\n",
    "5) Embarcadero at Folsom to \n",
    "   San Francisco Caltrain (Townsend at 4th)"
   ]
  },
  {
   "cell_type": "markdown",
   "metadata": {},
   "source": [
    "## Question 2: What are your recommendations for offers (justify based on your findings)?\n",
    "My recommendations are based on the findings below. A summary at the end will answer this question."
   ]
  },
  {
   "cell_type": "markdown",
   "metadata": {},
   "source": [
    "#### The following provides a comparison between commuter trips and all trips for the above top 5 start/end stations.\n"
   ]
  },
  {
   "cell_type": "markdown",
   "metadata": {},
   "source": [
    "Let's store the top 5 most popular commuter trips to a pandas dataframe."
   ]
  },
  {
   "cell_type": "code",
   "execution_count": null,
   "metadata": {},
   "outputs": [
    {
     "name": "stdout",
     "output_type": "stream",
     "text": [
      "Executing query with job ID: ebaab014-0c65-477a-9d95-1477046aacfb\n",
      "Query executing: 0.41s"
     ]
    }
   ],
   "source": [
    "%%bigquery Most_Freq_CT\n",
    "\n",
    "SELECT start_station_name, end_station_name, count(*) as trip_freq\n",
    "FROM `bigquery-public-data.san_francisco.bikeshare_trips`\n",
    "WHERE EXTRACT(DAYOFWEEK from start_date) BETWEEN 2 AND 6 AND EXTRACT(HOUR from start_date) BETWEEN 8 AND 18\n",
    "GROUP BY start_station_name, end_station_name\n",
    "ORDER BY trip_freq DESC LIMIT 5"
   ]
  },
  {
   "cell_type": "code",
   "execution_count": 111,
   "metadata": {},
   "outputs": [
    {
     "data": {
      "text/html": [
       "<div>\n",
       "<style scoped>\n",
       "    .dataframe tbody tr th:only-of-type {\n",
       "        vertical-align: middle;\n",
       "    }\n",
       "\n",
       "    .dataframe tbody tr th {\n",
       "        vertical-align: top;\n",
       "    }\n",
       "\n",
       "    .dataframe thead th {\n",
       "        text-align: right;\n",
       "    }\n",
       "</style>\n",
       "<table border=\"1\" class=\"dataframe\">\n",
       "  <thead>\n",
       "    <tr style=\"text-align: right;\">\n",
       "      <th></th>\n",
       "      <th>end_station_name</th>\n",
       "      <th>trip_freq</th>\n",
       "    </tr>\n",
       "    <tr>\n",
       "      <th>start_station_name</th>\n",
       "      <th></th>\n",
       "      <th></th>\n",
       "    </tr>\n",
       "  </thead>\n",
       "  <tbody>\n",
       "    <tr>\n",
       "      <th>2nd at Townsend</th>\n",
       "      <td>Harry Bridges Plaza (Ferry Building)</td>\n",
       "      <td>6676</td>\n",
       "    </tr>\n",
       "    <tr>\n",
       "      <th>San Francisco Caltrain 2 (330 Townsend)</th>\n",
       "      <td>Townsend at 7th</td>\n",
       "      <td>6057</td>\n",
       "    </tr>\n",
       "    <tr>\n",
       "      <th>Harry Bridges Plaza (Ferry Building)</th>\n",
       "      <td>Embarcadero at Sansome</td>\n",
       "      <td>5755</td>\n",
       "    </tr>\n",
       "    <tr>\n",
       "      <th>Embarcadero at Sansome</th>\n",
       "      <td>Steuart at Market</td>\n",
       "      <td>5591</td>\n",
       "    </tr>\n",
       "    <tr>\n",
       "      <th>Embarcadero at Folsom</th>\n",
       "      <td>San Francisco Caltrain (Townsend at 4th)</td>\n",
       "      <td>5520</td>\n",
       "    </tr>\n",
       "  </tbody>\n",
       "</table>\n",
       "</div>"
      ],
      "text/plain": [
       "                                                                 end_station_name  \\\n",
       "start_station_name                                                                  \n",
       "2nd at Townsend                              Harry Bridges Plaza (Ferry Building)   \n",
       "San Francisco Caltrain 2 (330 Townsend)                           Townsend at 7th   \n",
       "Harry Bridges Plaza (Ferry Building)                       Embarcadero at Sansome   \n",
       "Embarcadero at Sansome                                          Steuart at Market   \n",
       "Embarcadero at Folsom                    San Francisco Caltrain (Townsend at 4th)   \n",
       "\n",
       "                                         trip_freq  \n",
       "start_station_name                                  \n",
       "2nd at Townsend                               6676  \n",
       "San Francisco Caltrain 2 (330 Townsend)       6057  \n",
       "Harry Bridges Plaza (Ferry Building)          5755  \n",
       "Embarcadero at Sansome                        5591  \n",
       "Embarcadero at Folsom                         5520  "
      ]
     },
     "execution_count": 111,
     "metadata": {},
     "output_type": "execute_result"
    }
   ],
   "source": [
    "Most_Freq_CT = Most_Freq_CT.set_index('start_station_name')\n",
    "Most_Freq_CT"
   ]
  },
  {
   "cell_type": "markdown",
   "metadata": {},
   "source": [
    "Let's include all trip frequency for these top 5 trips:"
   ]
  },
  {
   "cell_type": "code",
   "execution_count": 126,
   "metadata": {},
   "outputs": [],
   "source": [
    "%%bigquery Most_Freq_T\n",
    "\n",
    "SELECT start_station_name, end_station_name, count(*) as trip_freq \n",
    "FROM `bigquery-public-data.san_francisco.bikeshare_trips`\n",
    "WHERE \n",
    "(start_station_name = \"2nd at Townsend\" and end_station_name = \"Harry Bridges Plaza (Ferry Building)\") or\n",
    "(start_station_name = \"San Francisco Caltrain 2 (330 Townsend)\" and end_station_name = \"Townsend at 7th\") or\n",
    "(start_station_name = \"Harry Bridges Plaza (Ferry Building)\" and end_station_name = \"Embarcadero at Sansome\") or\n",
    "(start_station_name = \"Embarcadero at Sansome\" and end_station_name = \"Steuart at Market\") or\n",
    "(start_station_name = \"Embarcadero at Folsom\"and end_station_name = \"San Francisco Caltrain (Townsend at 4th)\")\n",
    "GROUP BY start_station_name, end_station_name\n",
    "ORDER BY trip_freq DESC LIMIT 5"
   ]
  },
  {
   "cell_type": "code",
   "execution_count": 127,
   "metadata": {},
   "outputs": [
    {
     "data": {
      "text/html": [
       "<div>\n",
       "<style scoped>\n",
       "    .dataframe tbody tr th:only-of-type {\n",
       "        vertical-align: middle;\n",
       "    }\n",
       "\n",
       "    .dataframe tbody tr th {\n",
       "        vertical-align: top;\n",
       "    }\n",
       "\n",
       "    .dataframe thead th {\n",
       "        text-align: right;\n",
       "    }\n",
       "</style>\n",
       "<table border=\"1\" class=\"dataframe\">\n",
       "  <thead>\n",
       "    <tr style=\"text-align: right;\">\n",
       "      <th></th>\n",
       "      <th>end_station_name</th>\n",
       "      <th>trip_freq</th>\n",
       "    </tr>\n",
       "    <tr>\n",
       "      <th>start_station_name</th>\n",
       "      <th></th>\n",
       "      <th></th>\n",
       "    </tr>\n",
       "  </thead>\n",
       "  <tbody>\n",
       "    <tr>\n",
       "      <th>Harry Bridges Plaza (Ferry Building)</th>\n",
       "      <td>Embarcadero at Sansome</td>\n",
       "      <td>9150</td>\n",
       "    </tr>\n",
       "    <tr>\n",
       "      <th>San Francisco Caltrain 2 (330 Townsend)</th>\n",
       "      <td>Townsend at 7th</td>\n",
       "      <td>8508</td>\n",
       "    </tr>\n",
       "    <tr>\n",
       "      <th>2nd at Townsend</th>\n",
       "      <td>Harry Bridges Plaza (Ferry Building)</td>\n",
       "      <td>7620</td>\n",
       "    </tr>\n",
       "    <tr>\n",
       "      <th>Embarcadero at Sansome</th>\n",
       "      <td>Steuart at Market</td>\n",
       "      <td>6874</td>\n",
       "    </tr>\n",
       "    <tr>\n",
       "      <th>Embarcadero at Folsom</th>\n",
       "      <td>San Francisco Caltrain (Townsend at 4th)</td>\n",
       "      <td>6351</td>\n",
       "    </tr>\n",
       "  </tbody>\n",
       "</table>\n",
       "</div>"
      ],
      "text/plain": [
       "                                                                 end_station_name  \\\n",
       "start_station_name                                                                  \n",
       "Harry Bridges Plaza (Ferry Building)                       Embarcadero at Sansome   \n",
       "San Francisco Caltrain 2 (330 Townsend)                           Townsend at 7th   \n",
       "2nd at Townsend                              Harry Bridges Plaza (Ferry Building)   \n",
       "Embarcadero at Sansome                                          Steuart at Market   \n",
       "Embarcadero at Folsom                    San Francisco Caltrain (Townsend at 4th)   \n",
       "\n",
       "                                         trip_freq  \n",
       "start_station_name                                  \n",
       "Harry Bridges Plaza (Ferry Building)          9150  \n",
       "San Francisco Caltrain 2 (330 Townsend)       8508  \n",
       "2nd at Townsend                               7620  \n",
       "Embarcadero at Sansome                        6874  \n",
       "Embarcadero at Folsom                         6351  "
      ]
     },
     "execution_count": 127,
     "metadata": {},
     "output_type": "execute_result"
    }
   ],
   "source": [
    "Most_Freq_T = Most_Freq_T.set_index('start_station_name')\n",
    "Most_Freq_T"
   ]
  },
  {
   "cell_type": "markdown",
   "metadata": {},
   "source": [
    "Let's merge the tables and plot a graph."
   ]
  },
  {
   "cell_type": "code",
   "execution_count": 142,
   "metadata": {},
   "outputs": [
    {
     "data": {
      "text/html": [
       "<div>\n",
       "<style scoped>\n",
       "    .dataframe tbody tr th:only-of-type {\n",
       "        vertical-align: middle;\n",
       "    }\n",
       "\n",
       "    .dataframe tbody tr th {\n",
       "        vertical-align: top;\n",
       "    }\n",
       "\n",
       "    .dataframe thead th {\n",
       "        text-align: right;\n",
       "    }\n",
       "</style>\n",
       "<table border=\"1\" class=\"dataframe\">\n",
       "  <thead>\n",
       "    <tr style=\"text-align: right;\">\n",
       "      <th></th>\n",
       "      <th>end_station_name</th>\n",
       "      <th>commuter_trip_freq</th>\n",
       "      <th>all_trip_freq</th>\n",
       "      <th>percent_commuter_to_all</th>\n",
       "    </tr>\n",
       "    <tr>\n",
       "      <th>start_station_name</th>\n",
       "      <th></th>\n",
       "      <th></th>\n",
       "      <th></th>\n",
       "      <th></th>\n",
       "    </tr>\n",
       "  </thead>\n",
       "  <tbody>\n",
       "    <tr>\n",
       "      <th>2nd at Townsend</th>\n",
       "      <td>Harry Bridges Plaza (Ferry Building)</td>\n",
       "      <td>6676</td>\n",
       "      <td>7620</td>\n",
       "      <td>87.6</td>\n",
       "    </tr>\n",
       "    <tr>\n",
       "      <th>San Francisco Caltrain 2 (330 Townsend)</th>\n",
       "      <td>Townsend at 7th</td>\n",
       "      <td>6057</td>\n",
       "      <td>8508</td>\n",
       "      <td>71.2</td>\n",
       "    </tr>\n",
       "    <tr>\n",
       "      <th>Harry Bridges Plaza (Ferry Building)</th>\n",
       "      <td>Embarcadero at Sansome</td>\n",
       "      <td>5755</td>\n",
       "      <td>9150</td>\n",
       "      <td>62.9</td>\n",
       "    </tr>\n",
       "    <tr>\n",
       "      <th>Embarcadero at Sansome</th>\n",
       "      <td>Steuart at Market</td>\n",
       "      <td>5591</td>\n",
       "      <td>6874</td>\n",
       "      <td>81.3</td>\n",
       "    </tr>\n",
       "    <tr>\n",
       "      <th>Embarcadero at Folsom</th>\n",
       "      <td>San Francisco Caltrain (Townsend at 4th)</td>\n",
       "      <td>5520</td>\n",
       "      <td>6351</td>\n",
       "      <td>86.9</td>\n",
       "    </tr>\n",
       "  </tbody>\n",
       "</table>\n",
       "</div>"
      ],
      "text/plain": [
       "                                                                 end_station_name  \\\n",
       "start_station_name                                                                  \n",
       "2nd at Townsend                              Harry Bridges Plaza (Ferry Building)   \n",
       "San Francisco Caltrain 2 (330 Townsend)                           Townsend at 7th   \n",
       "Harry Bridges Plaza (Ferry Building)                       Embarcadero at Sansome   \n",
       "Embarcadero at Sansome                                          Steuart at Market   \n",
       "Embarcadero at Folsom                    San Francisco Caltrain (Townsend at 4th)   \n",
       "\n",
       "                                         commuter_trip_freq  all_trip_freq  \\\n",
       "start_station_name                                                           \n",
       "2nd at Townsend                                        6676           7620   \n",
       "San Francisco Caltrain 2 (330 Townsend)                6057           8508   \n",
       "Harry Bridges Plaza (Ferry Building)                   5755           9150   \n",
       "Embarcadero at Sansome                                 5591           6874   \n",
       "Embarcadero at Folsom                                  5520           6351   \n",
       "\n",
       "                                         percent_commuter_to_all  \n",
       "start_station_name                                                \n",
       "2nd at Townsend                                             87.6  \n",
       "San Francisco Caltrain 2 (330 Townsend)                     71.2  \n",
       "Harry Bridges Plaza (Ferry Building)                        62.9  \n",
       "Embarcadero at Sansome                                      81.3  \n",
       "Embarcadero at Folsom                                       86.9  "
      ]
     },
     "execution_count": 142,
     "metadata": {},
     "output_type": "execute_result"
    }
   ],
   "source": [
    "Most_Freq = pd.merge(Most_Freq_CT, Most_Freq_T, on='start_station_name')\n",
    "del Most_Freq['end_station_name_y']\n",
    "Most_Freq.columns = [ 'end_station_name', 'commuter_trip_freq', 'all_trip_freq']\n",
    "Most_Freq['percent_commuter_to_all'] = Most_Freq.commuter_trip_freq/Most_Freq.all_trip_freq*100\n",
    "pd.options.display.float_format = '{:.1f}'.format\n",
    "Most_Freq"
   ]
  },
  {
   "cell_type": "code",
   "execution_count": 115,
   "metadata": {},
   "outputs": [
    {
     "data": {
      "image/png": "[encoded data removed]",
      "text/plain": [
       "<Figure size 432x288 with 2 Axes>"
      ]
     },
     "metadata": {
      "needs_background": "light"
     },
     "output_type": "display_data"
    }
   ],
   "source": [
    "fig = plt.figure()\n",
    "ax1 = fig.add_subplot(111)\n",
    "plt.ylim([0,11000])\n",
    "ax2 = ax1.twinx()\n",
    "plt.ylim([0,11000])\n",
    "\n",
    "Most_Freq.commuter_trip_freq.plot(kind='bar', color = 'r', ax = ax1, width=0.3, position =1, alpha=0.5)\n",
    "Most_Freq.all_trip_freq.plot(kind='bar', color = 'b', ax = ax2, width=0.3, position =0, alpha=0.5)\n",
    "\n",
    "ax1.set_title('Most Frequent Lyft Bike Commuter and Total Trips')\n",
    "ax1.set_xlabel('Start Stations')\n",
    "ax1.set_ylabel('Commuter Trip Frequency', color='r')\n",
    "ax2.set_ylabel('All Trip Frequency', color='b')\n",
    "ax1.legend(loc='upper center')\n",
    "ax2.legend(loc='upper right')\n",
    "plt.show()"
   ]
  },
  {
   "cell_type": "markdown",
   "metadata": {},
   "source": [
    "#### Recommendation 1: \n",
    "Based on the top 5 commuter trips, it appears that the percent of commuter trips to all trips for the same start and stop stations are between 63% to 88%. There may be opportunity to find more users of Lyft Bay Wheels in non-commuters. I recommend to advertise to noncommuters or potential users of these bicycles on weekends or on Monday through Fridays outside of the hours 8am through 6pm. We can do so by providing lower priced Single Rides or a cheaper monthly/annual membership for riders during non-commuter days and times.\n"
   ]
  },
  {
   "cell_type": "markdown",
   "metadata": {},
   "source": [
    "#### The following analysis dives into the trip durations.\n"
   ]
  },
  {
   "cell_type": "code",
   "execution_count": 164,
   "metadata": {},
   "outputs": [],
   "source": [
    "%%bigquery Trip_Durations\n",
    "\n",
    "SELECT duration_bins, count(*) as trip_freq, count(*)/983648*100 as percent_of_all_trips\n",
    "from\n",
    "(\n",
    "SELECT trip_id, duration_sec/60.0 as duration_mins, duration_sec/3600.0 as duration_hrs,\n",
    "    CASE \n",
    "        WHEN duration_sec/60 <= 5  THEN \"less than 5 minutes\"\n",
    "        WHEN duration_sec/60 > 5 and duration_sec/60 <= 30 THEN \"5-30 minutes\"\n",
    "        WHEN duration_sec/60 > 30 and duration_sec/60 <= 120 THEN \"30-120 minutes\"\n",
    "        WHEN duration_sec/60 >120 THEN \"greater than 120 minutes\"\n",
    "        END AS duration_bins\n",
    "FROM `bigquery-public-data.san_francisco.bikeshare_trips`\n",
    ")\n",
    "GROUP BY duration_bins\n",
    "ORDER BY trip_freq desc"
   ]
  },
  {
   "cell_type": "code",
   "execution_count": 165,
   "metadata": {},
   "outputs": [
    {
     "data": {
      "text/html": [
       "<div>\n",
       "<style scoped>\n",
       "    .dataframe tbody tr th:only-of-type {\n",
       "        vertical-align: middle;\n",
       "    }\n",
       "\n",
       "    .dataframe tbody tr th {\n",
       "        vertical-align: top;\n",
       "    }\n",
       "\n",
       "    .dataframe thead th {\n",
       "        text-align: right;\n",
       "    }\n",
       "</style>\n",
       "<table border=\"1\" class=\"dataframe\">\n",
       "  <thead>\n",
       "    <tr style=\"text-align: right;\">\n",
       "      <th></th>\n",
       "      <th>trip_freq</th>\n",
       "      <th>percent_of_all_trips</th>\n",
       "    </tr>\n",
       "    <tr>\n",
       "      <th>duration_bins</th>\n",
       "      <th></th>\n",
       "      <th></th>\n",
       "    </tr>\n",
       "  </thead>\n",
       "  <tbody>\n",
       "    <tr>\n",
       "      <th>5-30 minutes</th>\n",
       "      <td>756232</td>\n",
       "      <td>76.9</td>\n",
       "    </tr>\n",
       "    <tr>\n",
       "      <th>less than 5 minutes</th>\n",
       "      <td>180079</td>\n",
       "      <td>18.3</td>\n",
       "    </tr>\n",
       "    <tr>\n",
       "      <th>30-120 minutes</th>\n",
       "      <td>31136</td>\n",
       "      <td>3.2</td>\n",
       "    </tr>\n",
       "    <tr>\n",
       "      <th>greater than 120 minutes</th>\n",
       "      <td>16201</td>\n",
       "      <td>1.6</td>\n",
       "    </tr>\n",
       "  </tbody>\n",
       "</table>\n",
       "</div>"
      ],
      "text/plain": [
       "                          trip_freq  percent_of_all_trips\n",
       "duration_bins                                            \n",
       "5-30 minutes                 756232                  76.9\n",
       "less than 5 minutes          180079                  18.3\n",
       "30-120 minutes                31136                   3.2\n",
       "greater than 120 minutes      16201                   1.6"
      ]
     },
     "execution_count": 165,
     "metadata": {},
     "output_type": "execute_result"
    }
   ],
   "source": [
    "Trip_Durations = Trip_Durations.set_index('duration_bins')\n",
    "Trip_Durations"
   ]
  },
  {
   "cell_type": "code",
   "execution_count": 166,
   "metadata": {},
   "outputs": [
    {
     "data": {
      "image/png": "[encoded data removed]",
      "text/plain": [
       "<Figure size 432x288 with 1 Axes>"
      ]
     },
     "metadata": {
      "needs_background": "light"
     },
     "output_type": "display_data"
    }
   ],
   "source": [
    "fig = plt.figure()\n",
    "ax1 = fig.add_subplot(111)\n",
    "Trip_Durations.trip_freq.plot(kind='bar', color = 'b', ax = ax1, width=0.3, position =1)\n",
    "ax1.set_title('Trip Frequencies by Trip Duration')\n",
    "ax1.set_xlabel('Trip Duration')\n",
    "ax1.set_ylabel('Trip Frequency')\n",
    "plt.show()"
   ]
  },
  {
   "cell_type": "markdown",
   "metadata": {},
   "source": [
    "#### Recommendation 2: \n",
    "While most trips occur between 5-30 minutes (as expected for a user needing to commute on a bike from one point to another), there are MANY trip durations of less than 5 minutes which represents 18.3% of all trips in the dataset. This could be due to bad data or users having technical difficulties when starting up the bike rental service. My recommendation is to determine if the are poor sensors on the bikes or if there were some bugs in the data collection process. If not, my recommendation is to provide an easier way for users to rent bikes, maybe through a click of a button on a smartphone. Specifically to offers, my recommendation is to offer greater incentives by giving a discount or free rentals for new users to offset their cost of learning how to activate and use these bikes in the beginning. \n"
   ]
  },
  {
   "cell_type": "markdown",
   "metadata": {},
   "source": [
    "#### The following analysis looks at bike availability at specific stations.\n"
   ]
  },
  {
   "cell_type": "code",
   "execution_count": 231,
   "metadata": {},
   "outputs": [],
   "source": [
    "%%bigquery Bike_Avail\n",
    "\n",
    "SELECT station_id, count(*) as mins_available\n",
    "FROM `bigquery-public-data.san_francisco.bikeshare_status`\n",
    "WHERE \n",
    "    bikes_available > 0\n",
    "GROUP BY station_id\n",
    "ORDER BY station_id"
   ]
  },
  {
   "cell_type": "code",
   "execution_count": 232,
   "metadata": {},
   "outputs": [],
   "source": [
    "%%bigquery Bike_Not_Avail\n",
    "\n",
    "SELECT station_id, count(*) as mins_unavailable\n",
    "FROM `bigquery-public-data.san_francisco.bikeshare_status`\n",
    "WHERE \n",
    "    bikes_available = 0\n",
    "GROUP BY station_id\n",
    "ORDER BY station_id"
   ]
  },
  {
   "cell_type": "code",
   "execution_count": 233,
   "metadata": {},
   "outputs": [
    {
     "data": {
      "text/html": [
       "<div>\n",
       "<style scoped>\n",
       "    .dataframe tbody tr th:only-of-type {\n",
       "        vertical-align: middle;\n",
       "    }\n",
       "\n",
       "    .dataframe tbody tr th {\n",
       "        vertical-align: top;\n",
       "    }\n",
       "\n",
       "    .dataframe thead th {\n",
       "        text-align: right;\n",
       "    }\n",
       "</style>\n",
       "<table border=\"1\" class=\"dataframe\">\n",
       "  <thead>\n",
       "    <tr style=\"text-align: right;\">\n",
       "      <th></th>\n",
       "      <th>mins_available</th>\n",
       "      <th>mins_unavailable</th>\n",
       "    </tr>\n",
       "    <tr>\n",
       "      <th>station_id</th>\n",
       "      <th></th>\n",
       "      <th></th>\n",
       "    </tr>\n",
       "  </thead>\n",
       "  <tbody>\n",
       "    <tr>\n",
       "      <th>62</th>\n",
       "      <td>1512718</td>\n",
       "      <td>44844</td>\n",
       "    </tr>\n",
       "    <tr>\n",
       "      <th>45</th>\n",
       "      <td>1514869</td>\n",
       "      <td>44728</td>\n",
       "    </tr>\n",
       "    <tr>\n",
       "      <th>48</th>\n",
       "      <td>1523694</td>\n",
       "      <td>35903</td>\n",
       "    </tr>\n",
       "    <tr>\n",
       "      <th>60</th>\n",
       "      <td>1526617</td>\n",
       "      <td>32980</td>\n",
       "    </tr>\n",
       "    <tr>\n",
       "      <th>41</th>\n",
       "      <td>1527092</td>\n",
       "      <td>32505</td>\n",
       "    </tr>\n",
       "  </tbody>\n",
       "</table>\n",
       "</div>"
      ],
      "text/plain": [
       "            mins_available  mins_unavailable\n",
       "station_id                                  \n",
       "62                 1512718             44844\n",
       "45                 1514869             44728\n",
       "48                 1523694             35903\n",
       "60                 1526617             32980\n",
       "41                 1527092             32505"
      ]
     },
     "execution_count": 233,
     "metadata": {},
     "output_type": "execute_result"
    }
   ],
   "source": [
    "Bike_Not_Avail=Bike_Not_Avail.set_index('station_id')\n",
    "Bike_Avail=Bike_Avail.set_index('station_id')\n",
    "Bike_Not_Avail=Bike_Not_Avail.drop([87])     #needed to drop station_id 87 because it doesn't have an available bike which could be false data\n",
    "Bike_Availability = pd.merge(Bike_Avail,Bike_Not_Avail, on='station_id')\n",
    "Bike_Availability = Bike_Availability.sort_values(by='mins_unavailable', ascending=False)\n",
    "Bike_Availability.head()"
   ]
  },
  {
   "cell_type": "code",
   "execution_count": 255,
   "metadata": {},
   "outputs": [
    {
     "data": {
      "image/png": "[encoded data removed]",
      "text/plain": [
       "<Figure size 432x288 with 2 Axes>"
      ]
     },
     "metadata": {
      "needs_background": "light"
     },
     "output_type": "display_data"
    }
   ],
   "source": [
    "fig = plt.figure()\n",
    "ax1 = fig.add_subplot(111)\n",
    "plt.ylim([0,1800000])\n",
    "ax2 = ax1.twinx()\n",
    "plt.ylim([0,1800000])\n",
    "\n",
    "Bike_Availability.head(10).mins_available.plot(kind='bar', color = 'r', ax = ax1, width=0.3, position =1, alpha=0.5)\n",
    "Bike_Availability.head(10).mins_unavailable.plot(kind = 'bar', color = 'b', ax = ax2, width=0.3, position =0, alpha=0.5)\n",
    "\n",
    "ax1.set_title('Bike Station Availability')\n",
    "ax1.set_xlabel('Station ID')\n",
    "ax1.set_ylabel('Minutes Available', color='r')\n",
    "ax2.set_ylabel('Minutes Unavailable', color='b')\n",
    "ax1.legend(loc='upper center')\n",
    "ax2.legend(loc='upper right')\n",
    "plt.show()"
   ]
  },
  {
   "cell_type": "code",
   "execution_count": 268,
   "metadata": {},
   "outputs": [],
   "source": [
    "%%bigquery Time_Unavail\n",
    "\n",
    "SELECT Time_Unavailable, count(*) as Frequency\n",
    "FROM\n",
    "(SELECT \n",
    "    CASE \n",
    "           WHEN EXTRACT(HOUR FROM time) <= 5  OR EXTRACT(HOUR FROM time) >= 23 THEN \"Nightime\"\n",
    "           WHEN EXTRACT(HOUR FROM time) >= 6 and EXTRACT(HOUR FROM time) <= 8 THEN \"Morning\"\n",
    "           WHEN EXTRACT(HOUR FROM time) >= 9 and EXTRACT(HOUR FROM time) <= 10 THEN \"Mid Morning\"\n",
    "           WHEN EXTRACT(HOUR FROM time) >= 11 and EXTRACT(HOUR FROM time) <= 13 THEN \"Mid Day\"\n",
    "           WHEN EXTRACT(HOUR FROM time) >= 14 and EXTRACT(HOUR FROM time) <= 16 THEN \"Early Afternoon\"\n",
    "           WHEN EXTRACT(HOUR FROM time) >= 17 and EXTRACT(HOUR FROM time) <= 19 THEN \"Afternoon\"\n",
    "           WHEN EXTRACT(HOUR FROM time) >= 20 and EXTRACT(HOUR FROM time) <= 22 THEN \"Evening\"\n",
    "           END AS Time_Unavailable\n",
    "FROM `bigquery-public-data.san_francisco.bikeshare_status`\n",
    "WHERE \n",
    "bikes_available = 0)\n",
    "Group By Time_Unavailable\n",
    "ORDER BY Frequency DESC"
   ]
  },
  {
   "cell_type": "code",
   "execution_count": 270,
   "metadata": {},
   "outputs": [],
   "source": [
    "%%bigquery Time_Avail\n",
    "\n",
    "SELECT Time_Available, count(*) as Frequency\n",
    "FROM\n",
    "(SELECT \n",
    "    CASE \n",
    "           WHEN EXTRACT(HOUR FROM time) <= 5  OR EXTRACT(HOUR FROM time) >= 23 THEN \"Nightime\"\n",
    "           WHEN EXTRACT(HOUR FROM time) >= 6 and EXTRACT(HOUR FROM time) <= 8 THEN \"Morning\"\n",
    "           WHEN EXTRACT(HOUR FROM time) >= 9 and EXTRACT(HOUR FROM time) <= 10 THEN \"Mid Morning\"\n",
    "           WHEN EXTRACT(HOUR FROM time) >= 11 and EXTRACT(HOUR FROM time) <= 13 THEN \"Mid Day\"\n",
    "           WHEN EXTRACT(HOUR FROM time) >= 14 and EXTRACT(HOUR FROM time) <= 16 THEN \"Early Afternoon\"\n",
    "           WHEN EXTRACT(HOUR FROM time) >= 17 and EXTRACT(HOUR FROM time) <= 19 THEN \"Afternoon\"\n",
    "           WHEN EXTRACT(HOUR FROM time) >= 20 and EXTRACT(HOUR FROM time) <= 22 THEN \"Evening\"\n",
    "           END AS Time_Available\n",
    "FROM `bigquery-public-data.san_francisco.bikeshare_status`\n",
    "WHERE \n",
    "bikes_available > 0)\n",
    "Group By Time_Available\n",
    "ORDER BY Frequency DESC"
   ]
  },
  {
   "cell_type": "code",
   "execution_count": 271,
   "metadata": {},
   "outputs": [
    {
     "data": {
      "text/html": [
       "<div>\n",
       "<style scoped>\n",
       "    .dataframe tbody tr th:only-of-type {\n",
       "        vertical-align: middle;\n",
       "    }\n",
       "\n",
       "    .dataframe tbody tr th {\n",
       "        vertical-align: top;\n",
       "    }\n",
       "\n",
       "    .dataframe thead th {\n",
       "        text-align: right;\n",
       "    }\n",
       "</style>\n",
       "<table border=\"1\" class=\"dataframe\">\n",
       "  <thead>\n",
       "    <tr style=\"text-align: right;\">\n",
       "      <th></th>\n",
       "      <th>Time_Unavailable</th>\n",
       "      <th>Frequency</th>\n",
       "    </tr>\n",
       "  </thead>\n",
       "  <tbody>\n",
       "    <tr>\n",
       "      <th>0</th>\n",
       "      <td>Afternoon</td>\n",
       "      <td>217929</td>\n",
       "    </tr>\n",
       "    <tr>\n",
       "      <th>1</th>\n",
       "      <td>Nightime</td>\n",
       "      <td>176459</td>\n",
       "    </tr>\n",
       "    <tr>\n",
       "      <th>2</th>\n",
       "      <td>Morning</td>\n",
       "      <td>125832</td>\n",
       "    </tr>\n",
       "    <tr>\n",
       "      <th>3</th>\n",
       "      <td>Mid Morning</td>\n",
       "      <td>123070</td>\n",
       "    </tr>\n",
       "    <tr>\n",
       "      <th>4</th>\n",
       "      <td>Early Afternoon</td>\n",
       "      <td>79779</td>\n",
       "    </tr>\n",
       "    <tr>\n",
       "      <th>5</th>\n",
       "      <td>Mid Day</td>\n",
       "      <td>70964</td>\n",
       "    </tr>\n",
       "    <tr>\n",
       "      <th>6</th>\n",
       "      <td>Evening</td>\n",
       "      <td>56797</td>\n",
       "    </tr>\n",
       "  </tbody>\n",
       "</table>\n",
       "</div>"
      ],
      "text/plain": [
       "  Time_Unavailable  Frequency\n",
       "0        Afternoon     217929\n",
       "1         Nightime     176459\n",
       "2          Morning     125832\n",
       "3      Mid Morning     123070\n",
       "4  Early Afternoon      79779\n",
       "5          Mid Day      70964\n",
       "6          Evening      56797"
      ]
     },
     "execution_count": 271,
     "metadata": {},
     "output_type": "execute_result"
    }
   ],
   "source": [
    "Time_Unavail"
   ]
  },
  {
   "cell_type": "code",
   "execution_count": 272,
   "metadata": {},
   "outputs": [
    {
     "data": {
      "text/html": [
       "<div>\n",
       "<style scoped>\n",
       "    .dataframe tbody tr th:only-of-type {\n",
       "        vertical-align: middle;\n",
       "    }\n",
       "\n",
       "    .dataframe tbody tr th {\n",
       "        vertical-align: top;\n",
       "    }\n",
       "\n",
       "    .dataframe thead th {\n",
       "        text-align: right;\n",
       "    }\n",
       "</style>\n",
       "<table border=\"1\" class=\"dataframe\">\n",
       "  <thead>\n",
       "    <tr style=\"text-align: right;\">\n",
       "      <th></th>\n",
       "      <th>Time_Available</th>\n",
       "      <th>Frequency</th>\n",
       "    </tr>\n",
       "  </thead>\n",
       "  <tbody>\n",
       "    <tr>\n",
       "      <th>0</th>\n",
       "      <td>Nightime</td>\n",
       "      <td>31170139</td>\n",
       "    </tr>\n",
       "    <tr>\n",
       "      <th>1</th>\n",
       "      <td>Evening</td>\n",
       "      <td>13441896</td>\n",
       "    </tr>\n",
       "    <tr>\n",
       "      <th>2</th>\n",
       "      <td>Early Afternoon</td>\n",
       "      <td>13366240</td>\n",
       "    </tr>\n",
       "    <tr>\n",
       "      <th>3</th>\n",
       "      <td>Mid Day</td>\n",
       "      <td>13355438</td>\n",
       "    </tr>\n",
       "    <tr>\n",
       "      <th>4</th>\n",
       "      <td>Afternoon</td>\n",
       "      <td>13260179</td>\n",
       "    </tr>\n",
       "    <tr>\n",
       "      <th>5</th>\n",
       "      <td>Morning</td>\n",
       "      <td>13248748</td>\n",
       "    </tr>\n",
       "    <tr>\n",
       "      <th>6</th>\n",
       "      <td>Mid Morning</td>\n",
       "      <td>8808149</td>\n",
       "    </tr>\n",
       "  </tbody>\n",
       "</table>\n",
       "</div>"
      ],
      "text/plain": [
       "    Time_Available  Frequency\n",
       "0         Nightime   31170139\n",
       "1          Evening   13441896\n",
       "2  Early Afternoon   13366240\n",
       "3          Mid Day   13355438\n",
       "4        Afternoon   13260179\n",
       "5          Morning   13248748\n",
       "6      Mid Morning    8808149"
      ]
     },
     "execution_count": 272,
     "metadata": {},
     "output_type": "execute_result"
    }
   ],
   "source": [
    "Time_Avail"
   ]
  },
  {
   "cell_type": "markdown",
   "metadata": {},
   "source": [
    "#### Recommendation 3: \n",
    "The initial idea was to determine if there needs to be more biking docks and bikes available at each station. The result from the Bike Station Availability bar plot shows that there aren't many times when a station has zero bikes and therefore, it is not recommended to increase station sizes. Further analysis on availability (instead of unavailability) of bikes showed that Nighttime and Evenings are when there are most bikes available (not being used). This is a revenue opportunity on sunk cost (cost of bikes sitting at a station not gearning revenue). While it is obvious that there would be less users during Nightime or Evenings, all other times (besides mid morning) have similar availability as Evenings and therefore, my recommendation is to advertise to users during morning, afternoon, midday, and early afternoon, with a pricing structure that would be cheaper at these times."
   ]
  },
  {
   "cell_type": "markdown",
   "metadata": {},
   "source": [
    "## Answer: My recommendations for offers based on my findings are:\n",
    "\n",
    "#### Recommendation 1: \n",
    "Based on the top 5 commuter trips, it appears that the percent of commuter trips to all trips for the same start and stop stations are between 63% to 88%. There may be opportunity to find more users of Lyft Bay Wheels in non-commuters. I recommend to advertise to noncommuters or potential users of these bicycles on weekends or on Monday through Fridays outside of the hours 8am through 6pm. We can do so by providing lower priced Single Rides or a cheaper monthly/annual membership for riders during non-commuter days and times.\n",
    "\n",
    "\n",
    "#### Recommendation 2: \n",
    "While most trips occur between 5-30 minutes (as expected for a user needing to commute on a bike from one point to another), there are MANY trip durations of less than 5 minutes which represents 18.3% of all trips in the dataset. This could be due to bad data or users having technical difficulties when starting up the bike rental service. My recommendation is to determine if the are poor sensors on the bikes or if there were some bugs in the data collection process. If not, my recommendation is to provide an easier way for users to rent bikes, maybe through a click of a button on a smartphone. Specifically to offers, my recommendation is to offer greater incentives by giving a discount or free rentals for new users to offset their cost of learning how to activate and use these bikes in the beginning. \n",
    "\n",
    "\n",
    "#### Recommendation 3: \n",
    "The initial idea was to determine if there needs to be more biking docks and bikes available at each station. The result from the Bike Station Availability bar plot shows that there aren't many times when a station has zero bikes and therefore, it is not recommended to increase station sizes. Further analysis on availability (instead of unavailability) of bikes showed that Nighttime and Evenings are when there are many bikes available and not being used. This is a revenue opportunity on sunk cost (cost of bikes sitting at a station not gaining earning revenue). While it is obvious that there would be less users during Nightime or evenings, all other times (besides mid morning) have similar availability as evenings and therefore, my recommendation is to advertise to users during morning, afternoon, midday, and early afternoon, with a pricing structure that would be cheaper at these times."
   ]
  }
 ],
 "metadata": {
  "kernelspec": {
   "display_name": "Python 3",
   "language": "python",
   "name": "python3"
  },
  "language_info": {
   "codemirror_mode": {
    "name": "ipython",
    "version": 3
   },
   "file_extension": ".py",
   "mimetype": "text/x-python",
   "name": "python",
   "nbconvert_exporter": "python",
   "pygments_lexer": "ipython3",
   "version": "3.7.4"
  }
 },
 "nbformat": 4,
 "nbformat_minor": 4
}
